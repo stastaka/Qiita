{
 "cells": [
  {
   "cell_type": "code",
   "execution_count": 1,
   "metadata": {
    "collapsed": false
   },
   "outputs": [],
   "source": [
    "import numpy as np\n",
    "from pylab import *\n",
    "import matplotlib.pyplot as plt\n",
    "%matplotlib inline\n",
    "from scipy import integrate"
   ]
  },
  {
   "cell_type": "code",
   "execution_count": 5,
   "metadata": {
    "collapsed": false
   },
   "outputs": [
    {
     "data": {
      "image/png": "[encoded data removed]",
      "text/plain": [
       "<matplotlib.figure.Figure at 0x10c42aac8>"
      ]
     },
     "metadata": {},
     "output_type": "display_data"
    }
   ],
   "source": [
    "def f(x, e):\n",
    "    return 1.0/np.sqrt(1.0-e**2*np.sin(x)**2)\n",
    "\n",
    "def g(x, e):\n",
    "    return np.sqrt(1.0-e**2*np.sin(x)**2)\n",
    "\n",
    "def plot(func):\n",
    "    x = []\n",
    "    y = []\n",
    "    for e in np.arange(0.0, 1.0, 0.01):\n",
    "        (res, err) = integrate.quad(lambda x,e: func(x,e), 0, np.pi/2, args=e)\n",
    "        x.append(e)\n",
    "        y.append(4*res)\n",
    "    plt.plot(x, y)\n",
    "plot(f)\n",
    "plot(g)"
   ]
  }
 ],
 "metadata": {
  "kernelspec": {
   "display_name": "Python 3",
   "language": "python",
   "name": "python3"
  },
  "language_info": {
   "codemirror_mode": {
    "name": "ipython",
    "version": 3
   },
   "file_extension": ".py",
   "mimetype": "text/x-python",
   "name": "python",
   "nbconvert_exporter": "python",
   "pygments_lexer": "ipython3",
   "version": "3.5.1"
  }
 },
 "nbformat": 4,
 "nbformat_minor": 0
}
